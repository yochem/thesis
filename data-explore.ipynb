{
 "cells": [
  {
   "cell_type": "code",
   "execution_count": 25,
   "metadata": {},
   "outputs": [
    {
     "name": "stdout",
     "output_type": "stream",
     "text": [
      "/Users/yochem/.local/share/pyenv/versions/krl/bin/python3\n"
     ]
    }
   ],
   "source": [
    "import sys\n",
    "sys.path.append('/usr/lib/python3.9/site-packages')\n",
    "print(sys.executable)\n",
    "import os\n",
    "import random\n",
    "import subprocess\n",
    "import time\n",
    "\n",
    "import numpy as np\n",
    "import pandas as pd\n",
    "import matplotlib.pyplot as plt"
   ]
  },
  {
   "cell_type": "code",
   "execution_count": 21,
   "metadata": {},
   "outputs": [
    {
     "name": "stdout",
     "output_type": "stream",
     "text": [
      "4320\n"
     ]
    }
   ],
   "source": [
    "data_files = [\n",
    "    'data/mts_june_10m.csv',\n",
    "    'data/mts_june_10m_rh.csv',\n",
    "    'data/mts_june_1m.csv',\n",
    "    'data/mts_june_1m_rh.csv'\n",
    "]\n",
    "\n",
    "data_10m = pd.read_csv('data/mts_june_10m.csv')\n",
    "\n",
    "data_10m.columns = ('start_time', 'transfer_time', 'req_id', 'bytes', 'completed')\n",
    "print(len(data_10m['req_id']))\n",
    "\n",
    "\n",
    "\n",
    "data_10m = data_10m.astype({'start_time': str, 'transfer_time': int, 'req_id': str, 'bytes': int, 'completed': bool})"
   ]
  },
  {
   "cell_type": "code",
   "execution_count": 10,
   "metadata": {},
   "outputs": [
    {
     "data": {
      "text/html": [
       "<div>\n",
       "<style scoped>\n",
       "    .dataframe tbody tr th:only-of-type {\n",
       "        vertical-align: middle;\n",
       "    }\n",
       "\n",
       "    .dataframe tbody tr th {\n",
       "        vertical-align: top;\n",
       "    }\n",
       "\n",
       "    .dataframe thead th {\n",
       "        text-align: right;\n",
       "    }\n",
       "</style>\n",
       "<table border=\"1\" class=\"dataframe\">\n",
       "  <thead>\n",
       "    <tr style=\"text-align: right;\">\n",
       "      <th></th>\n",
       "      <th>transfer_time</th>\n",
       "      <th>bytes</th>\n",
       "    </tr>\n",
       "  </thead>\n",
       "  <tbody>\n",
       "    <tr>\n",
       "      <th>count</th>\n",
       "      <td>4317</td>\n",
       "      <td>4317</td>\n",
       "    </tr>\n",
       "    <tr>\n",
       "      <th>mean</th>\n",
       "      <td>2451</td>\n",
       "      <td>986461130</td>\n",
       "    </tr>\n",
       "    <tr>\n",
       "      <th>std</th>\n",
       "      <td>8185</td>\n",
       "      <td>4862534123</td>\n",
       "    </tr>\n",
       "    <tr>\n",
       "      <th>min</th>\n",
       "      <td>145</td>\n",
       "      <td>8164772</td>\n",
       "    </tr>\n",
       "    <tr>\n",
       "      <th>25%</th>\n",
       "      <td>1241</td>\n",
       "      <td>144545848</td>\n",
       "    </tr>\n",
       "    <tr>\n",
       "      <th>50%</th>\n",
       "      <td>1840</td>\n",
       "      <td>412508945</td>\n",
       "    </tr>\n",
       "    <tr>\n",
       "      <th>75%</th>\n",
       "      <td>2592</td>\n",
       "      <td>912091472</td>\n",
       "    </tr>\n",
       "    <tr>\n",
       "      <th>max</th>\n",
       "      <td>299061</td>\n",
       "      <td>165483000000</td>\n",
       "    </tr>\n",
       "  </tbody>\n",
       "</table>\n",
       "</div>"
      ],
      "text/plain": [
       "       transfer_time         bytes\n",
       "count           4317          4317\n",
       "mean            2451     986461130\n",
       "std             8185    4862534123\n",
       "min              145       8164772\n",
       "25%             1241     144545848\n",
       "50%             1840     412508945\n",
       "75%             2592     912091472\n",
       "max           299061  165483000000"
      ]
     },
     "execution_count": 10,
     "metadata": {},
     "output_type": "execute_result"
    }
   ],
   "source": [
    "data_10m = data_10m[data_10m['transfer_time'] > 0]\n",
    "data_10m.reset_index(inplace=True, drop=True)\n",
    "data_10m\n",
    "data_10m.describe().astype(int)"
   ]
  },
  {
   "cell_type": "code",
   "execution_count": null,
   "metadata": {},
   "outputs": [],
   "source": [
    "\n"
   ]
  },
  {
   "cell_type": "markdown",
   "metadata": {},
   "source": [
    "## Exploring the transfer times of tasks"
   ]
  },
  {
   "cell_type": "code",
   "execution_count": 5,
   "metadata": {},
   "outputs": [
    {
     "data": {
      "image/png": "[encoded data removed]",
      "text/plain": [
       "<Figure size 432x288 with 1 Axes>"
      ]
     },
     "metadata": {
      "needs_background": "light"
     },
     "output_type": "display_data"
    },
    {
     "data": {
      "image/png": "[encoded data removed]",
      "text/plain": [
       "<Figure size 432x288 with 1 Axes>"
      ]
     },
     "metadata": {
      "needs_background": "light"
     },
     "output_type": "display_data"
    }
   ],
   "source": [
    "tt = data_10m['transfer_time']\n",
    "plt.plot(sorted(tt))\n",
    "plt.title('Sorted transfer time')\n",
    "plt.show()\n",
    "\n",
    "tt_dist = tt.apply(lambda t: t // 1000).value_counts().sort_index()\n",
    "\n",
    "# sum 12000+ values\n",
    "tt_dist[12] = tt_dist[12:].sum()\n",
    "tt_dist = tt_dist[:13]\n",
    "plt.bar(tt_dist.index, tt_dist.values)\n",
    "plt.xticks(tt_dist.index - 0.5, labels=tt_dist.index * 1000, rotation=315)\n",
    "plt.show()"
   ]
  },
  {
   "cell_type": "code",
   "execution_count": 6,
   "metadata": {},
   "outputs": [
    {
     "name": "stdout",
     "output_type": "stream",
     "text": [
      "count            4320\n",
      "mean        985776088\n",
      "std        4860914537\n",
      "min                 0\n",
      "25%         143993288\n",
      "50%         412081398\n",
      "75%         911894276\n",
      "max      165483000000\n",
      "Name: bytes, dtype: int64\n",
      "575     165483000000\n",
      "1583    140564000000\n",
      "2591    132003000000\n",
      "2707    128018000000\n",
      "3562    116488000000\n",
      "Name: bytes, dtype: int64\n"
     ]
    },
    {
     "data": {
      "image/png": "[encoded data removed]",
      "text/plain": [
       "<Figure size 432x288 with 1 Axes>"
      ]
     },
     "metadata": {
      "needs_background": "light"
     },
     "output_type": "display_data"
    }
   ],
   "source": [
    "bytez = data_10m['bytes']\n",
    "\n",
    "print(bytez.describe().astype(int))\n",
    "\n",
    "print(bytez.loc[bytez > 1e11])\n",
    "plt.plot(bytez)\n",
    "plt.show()"
   ]
  },
  {
   "cell_type": "markdown",
   "metadata": {},
   "source": [
    "### Arrival time"
   ]
  },
  {
   "cell_type": "code",
   "execution_count": 7,
   "metadata": {},
   "outputs": [
    {
     "data": {
      "text/plain": [
       "start_time\n",
       "2017-06-01    144\n",
       "2017-06-02    144\n",
       "2017-06-03    144\n",
       "2017-06-04    144\n",
       "2017-06-05    144\n",
       "2017-06-06    144\n",
       "2017-06-07    144\n",
       "2017-06-08    144\n",
       "2017-06-09    144\n",
       "2017-06-10    144\n",
       "2017-06-11    144\n",
       "2017-06-12    144\n",
       "2017-06-13    144\n",
       "2017-06-14    144\n",
       "2017-06-15    144\n",
       "2017-06-16    144\n",
       "2017-06-17    144\n",
       "2017-06-18    144\n",
       "2017-06-19    144\n",
       "2017-06-20    144\n",
       "2017-06-21    144\n",
       "2017-06-22    144\n",
       "2017-06-23    144\n",
       "2017-06-24    144\n",
       "2017-06-25    144\n",
       "2017-06-26    144\n",
       "2017-06-27    144\n",
       "2017-06-28    144\n",
       "2017-06-29    144\n",
       "2017-06-30    144\n",
       "Name: start_time, dtype: int64"
      ]
     },
     "execution_count": 7,
     "metadata": {},
     "output_type": "execute_result"
    }
   ],
   "source": [
    "times = pd.to_datetime(data_10m['start_time'])\n",
    "\n",
    "# everyday 144 tasks\n",
    "times.groupby(times.dt.date).count()"
   ]
  },
  {
   "cell_type": "code",
   "execution_count": 8,
   "metadata": {},
   "outputs": [
    {
     "data": {
      "text/plain": [
       "start_time\n",
       "0     180\n",
       "1     180\n",
       "2     180\n",
       "3     180\n",
       "4     180\n",
       "5     180\n",
       "6     180\n",
       "7     180\n",
       "8     180\n",
       "9     180\n",
       "10    180\n",
       "11    180\n",
       "12    180\n",
       "13    180\n",
       "14    180\n",
       "15    180\n",
       "16    180\n",
       "17    180\n",
       "18    180\n",
       "19    180\n",
       "20    180\n",
       "21    180\n",
       "22    180\n",
       "23    180\n",
       "Name: start_time, dtype: int64"
      ]
     },
     "execution_count": 8,
     "metadata": {},
     "output_type": "execute_result"
    }
   ],
   "source": [
    "times.groupby(times.dt.hour).count()"
   ]
  },
  {
   "cell_type": "markdown",
   "metadata": {},
   "source": [
    "Conclusion, every 10 minutes a task for 30 days straight --> real-world like? Probably not\n",
    "\n",
    "\n",
    "\n",
    "Idea: Generate graphs using daggen from this data, so it could be used with metarl offloading algorithm"
   ]
  },
  {
   "cell_type": "markdown",
   "metadata": {},
   "source": [
    "## Generate DAG's using daggen"
   ]
  },
  {
   "cell_type": "code",
   "execution_count": 99,
   "metadata": {},
   "outputs": [
    {
     "name": "stdout",
     "output_type": "stream",
     "text": [
      "             mindata      density          ccr          fat\n",
      "count    4320.000000  4320.000000  4320.000000  4320.000000\n",
      "mean     2450.065972     0.600000     0.400000     0.600000\n",
      "std      8182.582735     0.141438     0.081659     0.141438\n",
      "min         1.000000     0.400000     0.300000     0.400000\n",
      "25%      1240.000000     0.500000     0.300000     0.500000\n",
      "50%      1840.000000     0.600000     0.400000     0.600000\n",
      "75%      2592.000000     0.700000     0.500000     0.700000\n",
      "max    299061.000000     0.800000     0.500000     0.800000\n"
     ]
    },
    {
     "data": {
      "text/html": [
       "<div>\n",
       "<style scoped>\n",
       "    .dataframe tbody tr th:only-of-type {\n",
       "        vertical-align: middle;\n",
       "    }\n",
       "\n",
       "    .dataframe tbody tr th {\n",
       "        vertical-align: top;\n",
       "    }\n",
       "\n",
       "    .dataframe thead th {\n",
       "        text-align: right;\n",
       "    }\n",
       "</style>\n",
       "<table border=\"1\" class=\"dataframe\">\n",
       "  <thead>\n",
       "    <tr style=\"text-align: right;\">\n",
       "      <th></th>\n",
       "      <th>mindata</th>\n",
       "      <th>density</th>\n",
       "      <th>ccr</th>\n",
       "      <th>fat</th>\n",
       "    </tr>\n",
       "  </thead>\n",
       "  <tbody>\n",
       "    <tr>\n",
       "      <th>0</th>\n",
       "      <td>2319</td>\n",
       "      <td>0.4</td>\n",
       "      <td>0.3</td>\n",
       "      <td>0.4</td>\n",
       "    </tr>\n",
       "    <tr>\n",
       "      <th>1</th>\n",
       "      <td>1891</td>\n",
       "      <td>0.4</td>\n",
       "      <td>0.3</td>\n",
       "      <td>0.5</td>\n",
       "    </tr>\n",
       "    <tr>\n",
       "      <th>2</th>\n",
       "      <td>1053</td>\n",
       "      <td>0.4</td>\n",
       "      <td>0.3</td>\n",
       "      <td>0.6</td>\n",
       "    </tr>\n",
       "    <tr>\n",
       "      <th>3</th>\n",
       "      <td>1636</td>\n",
       "      <td>0.4</td>\n",
       "      <td>0.3</td>\n",
       "      <td>0.7</td>\n",
       "    </tr>\n",
       "    <tr>\n",
       "      <th>4</th>\n",
       "      <td>1087</td>\n",
       "      <td>0.4</td>\n",
       "      <td>0.3</td>\n",
       "      <td>0.8</td>\n",
       "    </tr>\n",
       "    <tr>\n",
       "      <th>...</th>\n",
       "      <td>...</td>\n",
       "      <td>...</td>\n",
       "      <td>...</td>\n",
       "      <td>...</td>\n",
       "    </tr>\n",
       "    <tr>\n",
       "      <th>4315</th>\n",
       "      <td>716</td>\n",
       "      <td>0.8</td>\n",
       "      <td>0.5</td>\n",
       "      <td>0.4</td>\n",
       "    </tr>\n",
       "    <tr>\n",
       "      <th>4316</th>\n",
       "      <td>672</td>\n",
       "      <td>0.8</td>\n",
       "      <td>0.5</td>\n",
       "      <td>0.5</td>\n",
       "    </tr>\n",
       "    <tr>\n",
       "      <th>4317</th>\n",
       "      <td>700</td>\n",
       "      <td>0.8</td>\n",
       "      <td>0.5</td>\n",
       "      <td>0.6</td>\n",
       "    </tr>\n",
       "    <tr>\n",
       "      <th>4318</th>\n",
       "      <td>647</td>\n",
       "      <td>0.8</td>\n",
       "      <td>0.5</td>\n",
       "      <td>0.7</td>\n",
       "    </tr>\n",
       "    <tr>\n",
       "      <th>4319</th>\n",
       "      <td>653</td>\n",
       "      <td>0.8</td>\n",
       "      <td>0.5</td>\n",
       "      <td>0.8</td>\n",
       "    </tr>\n",
       "  </tbody>\n",
       "</table>\n",
       "<p>4320 rows × 4 columns</p>\n",
       "</div>"
      ],
      "text/plain": [
       "      mindata  density  ccr  fat\n",
       "0        2319      0.4  0.3  0.4\n",
       "1        1891      0.4  0.3  0.5\n",
       "2        1053      0.4  0.3  0.6\n",
       "3        1636      0.4  0.3  0.7\n",
       "4        1087      0.4  0.3  0.8\n",
       "...       ...      ...  ...  ...\n",
       "4315      716      0.8  0.5  0.4\n",
       "4316      672      0.8  0.5  0.5\n",
       "4317      700      0.8  0.5  0.6\n",
       "4318      647      0.8  0.5  0.7\n",
       "4319      653      0.8  0.5  0.8\n",
       "\n",
       "[4320 rows x 4 columns]"
      ]
     },
     "execution_count": 99,
     "metadata": {},
     "output_type": "execute_result"
    }
   ],
   "source": [
    "# this magic number is the 75% of the sorted data\n",
    "# it gives a --n distribution of 25%: 0.157, 50%: 0.451, 75%: 1\n",
    "flags = pd.DataFrame()\n",
    "flags['mindata'] = data_10m.transfer_time.clip(lower=1)\n",
    "\n",
    "# random values based on metarl-offloading\n",
    "flags['density'] = np.repeat([.4, .5, .6, .7, .8], len(flags) // 5)\n",
    "flags['ccr'] = np.repeat([.3, .4, .5], len(flags) // 3)\n",
    "flags['fat'] = np.tile([.4, .5, .6, .7, .8], len(flags) // 5)\n",
    "\n",
    "print(flags.describe())\n",
    "flags"
   ]
  },
  {
   "cell_type": "code",
   "execution_count": 106,
   "metadata": {},
   "outputs": [
    {
     "data": {
      "text/plain": [
       "0       None\n",
       "1       None\n",
       "2       None\n",
       "3       None\n",
       "4       None\n",
       "        ... \n",
       "4315    None\n",
       "4316    None\n",
       "4317    None\n",
       "4318    None\n",
       "4319    None\n",
       "Length: 4320, dtype: object"
      ]
     },
     "execution_count": 106,
     "metadata": {},
     "output_type": "execute_result"
    }
   ],
   "source": [
    "GRAPH_FOLDER = 'graphs-20'\n",
    "\n",
    "\n",
    "def create_cmd(row):\n",
    "    cmd = subprocess.run([\n",
    "        'daggen',\n",
    "        '--dot',\n",
    "        '-n', '20',\n",
    "        '--mindata', str(int(row.mindata)),\n",
    "        '--maxdata', str(int(row.mindata)),\n",
    "        '--density', str(row.density),\n",
    "        '--ccr', str(row.ccr),\n",
    "        '--fat', str(row.fat),\n",
    "        '--regular', '0.5',\n",
    "        '-o', os.path.join(GRAPH_FOLDER, f'{int(row.name)}-{int(row.mindata)}.gv')\n",
    "    ], capture_output=True)\n",
    "\n",
    "    if cmd.returncode != 0:\n",
    "        print(cmd.stderr.decode('utf-8').split('\\n')[0])\n",
    "\n",
    "\n",
    "# run to recreate\n",
    "# flags.apply(create_cmd, axis=1)"
   ]
  },
  {
   "cell_type": "code",
   "execution_count": 108,
   "metadata": {},
   "outputs": [
    {
     "name": "stdout",
     "output_type": "stream",
     "text": [
      "graphs-20/03\n",
      "graphs-20/04\n",
      "graphs-20/32\n",
      "graphs-20/35\n",
      "graphs-20/34\n",
      "graphs-20/33\n",
      "graphs-20/05\n",
      "graphs-20/02\n",
      "graphs-20/20\n",
      "graphs-20/18\n",
      "graphs-20/27\n",
      "graphs-20/11\n",
      "graphs-20/29\n",
      "graphs-20/16\n",
      "graphs-20/28\n",
      "graphs-20/17\n",
      "graphs-20/10\n",
      "graphs-20/19\n",
      "graphs-20/26\n",
      "graphs-20/21\n",
      "graphs-20/07\n",
      "graphs-20/38\n",
      "graphs-20/00\n",
      "graphs-20/36\n",
      "graphs-20/09\n",
      "graphs-20/31\n",
      "graphs-20/30\n",
      "graphs-20/37\n",
      "graphs-20/08\n",
      "graphs-20/01\n",
      "graphs-20/06\n",
      "graphs-20/39\n",
      "graphs-20/24\n",
      "graphs-20/23\n",
      "graphs-20/15\n",
      "graphs-20/12\n",
      "graphs-20/13\n",
      "graphs-20/14\n",
      "graphs-20/22\n",
      "graphs-20/25\n"
     ]
    }
   ],
   "source": [
    "#  python3 -c 'import sys; from collections import Counter; print(Counter([round(eval(x), 2) for x in sys.argv[1:]]))' (grep expect_size * | cut -d' ' -f 4,6 | cut -d'\"' -f 2,4 | sed 's/\"/\\//')\n",
    "# Counter({2.5: 820, 2.0: 640, 3.33: 540})\n",
    "\n",
    "# elke size heeft ook een expected size\n",
    "def add_expect_size(start_folder):\n",
    "    options = [2.5, 2, 3.3]\n",
    "\n",
    "    for folder in os.listdir(start_folder):\n",
    "        folder_path = os.path.join(start_folder, folder)\n",
    "        if os.path.isfile(folder_path):\n",
    "            continue\n",
    "\n",
    "        print(folder_path)\n",
    "        for filename in os.listdir(folder_path):\n",
    "            with open(os.path.join(folder_path, filename), mode='r+') as f:\n",
    "                lines = f.read().splitlines()\n",
    "                new_lines = []\n",
    "                for line in lines:\n",
    "                    if '[size=' in line:\n",
    "                        real_size = int(line.split('\"')[1])\n",
    "                        expect = int(real_size / random.choices(options, weights=[820, 640, 540])[0])\n",
    "                        new_line = line[:-1] + f', expect_size=\"{expect}\"]'\n",
    "                    else:\n",
    "                        new_line = line\n",
    "\n",
    "                    new_lines.append(new_line)\n",
    "\n",
    "                f.seek(0)\n",
    "                f.truncate()\n",
    "                f.write('\\n'.join(new_lines))\n",
    "\n",
    "            \n",
    "add_expect_size('graphs-20')"
   ]
  },
  {
   "cell_type": "markdown",
   "metadata": {},
   "source": [
    "\n",
    "Taillard specification\n",
    "On the first line are two numbers, the first is the number of jobs and the second the number of machines. Following there are two matrice the first with a line for each job containing the processor times for each operation the second with the order for visiting the machines. The numbering of the machines starts at 1.\n",
    "\n",
    "For example the same instance as above would be presented as:\n",
    "\n",
    "```\n",
    "1\t3\t\n",
    "6\t7\t5\n",
    "2\t3\t1\n",
    "```\n",
    "\n",
    "\n",
    "http://jobshop.jjvh.nl/explanation.php#taillard_def\n"
   ]
  },
  {
   "cell_type": "code",
   "execution_count": 112,
   "metadata": {},
   "outputs": [
    {
     "name": "stdout",
     "output_type": "stream",
     "text": [
      "wrote file\n",
      "wrote file\n",
      "wrote file\n",
      "wrote file\n",
      "wrote file\n",
      "wrote file\n",
      "wrote file\n",
      "wrote file\n",
      "wrote file\n",
      "wrote file\n",
      "wrote file\n"
     ]
    }
   ],
   "source": [
    "from dataclasses import dataclass\n",
    "from typing import List\n",
    "from collections import Counter\n",
    "\n",
    "task_sizes = np.array([30, 20, 50, 15])\n",
    "weights = np.array([25, 21, 20, 10])\n",
    "weights = weights / weights.sum()\n",
    "\n",
    "\n",
    "# JOBS: Counter({30: 25, 20: 21, 50: 20, 15: 10, 100: 10})\n",
    "# MACH: Counter({20: 40, 15: 45})\n",
    "# task length from 0-100, scale bytes accordingly\n",
    "\n",
    "def taillard(data, num_machines):\n",
    "    group_count = len(data) // num_machines\n",
    "    cutoff = group_count * num_machines\n",
    "    even_data = data[:cutoff]\n",
    "    groups = list(map(lambda t: t.values, np.array_split(even_data, group_count)))\n",
    "    count = 0\n",
    "    \n",
    "    while groups:\n",
    "        num_jobs = random.choices(task_sizes, weights)[0]\n",
    "        \n",
    "        # update\n",
    "        instance = groups[:num_jobs]\n",
    "        groups = groups[num_jobs:]\n",
    "        job_paths = []\n",
    "        \n",
    "        for paths in instance:\n",
    "            path_with_id = []\n",
    "            machine_ids = list(range(num_machines))\n",
    "            random.shuffle(machine_ids)\n",
    "            for path in paths:\n",
    "                path_with_id.append(machine_ids.pop())\n",
    "                path_with_id.append(path)\n",
    "                \n",
    "            job_paths.append(' '.join(map(str, path_with_id)))\n",
    "        \n",
    "        with open(f'taillard/{num_jobs}-{num_machines}-{count}', 'w') as f:\n",
    "            f.write(f'{num_jobs} {num_machines}\\n')\n",
    "            f.write('\\n'.join(job_paths))\n",
    "            f.write('\\n')\n",
    "        \n",
    "        print('wrote file')\n",
    "        count += 1\n",
    "    \n",
    "    \n",
    "taillard(data_10m['transfer_time'], 15)"
   ]
  },
  {
   "cell_type": "code",
   "execution_count": 58,
   "metadata": {},
   "outputs": [
    {
     "name": "stdout",
     "output_type": "stream",
     "text": [
      "701\n",
      "545\n",
      "516\n",
      "649\n",
      "600\n",
      "583\n",
      "731\n",
      "678\n",
      "886\n",
      "715\n",
      "750\n",
      "777\n",
      "611\n",
      "797\n",
      "779\n",
      "421\n",
      "686\n",
      "796\n",
      "622\n",
      "662\n"
     ]
    }
   ],
   "source": [
    "a = [\n",
    "    '25 75 75 76 38 62 38 59 14 13 46 31 57 92',\n",
    "    '67 5 11 11 40 34 77 42 35 96 22 55 21 29',\n",
    "    '22 98 8 35 59 31 13 46 52 22 18 19 64 29',\n",
    "    '99 42 2 35 11 92 88 97 21 56 17 43 27 19',\n",
    "    '50 5 59 71 47 39 82 35 12 2 39 42 52 65',\n",
    "    '48 57 5 2 60 64 86 3 51 26 34 39 45 63',\n",
    "    '40 43 50 71 46 99 67 34 6 95 67 54 29 30',\n",
    "    '59 3 85 6 46 49 5 82 18 71 48 79 62 65',\n",
    "    '65 55 81 15 32 52 97 69 82 89 69 87 22 71',\n",
    "    '70 74 52 94 14 81 24 14 32 39 67 59 18 77',\n",
    "    '18 6 96 53 35 99 39 18 14 90 64 81 89 48',\n",
    "    '44 75 12 13 74 59 71 75 30 93 26 30 84 91',\n",
    "    '39 56 13 29 55 69 26 7 55 48 22 46 50 96',\n",
    "    '57 14 8 13 95 53 78 24 92 90 68 87 43 75',\n",
    "    '93 92 18 28 27 40 56 83 51 15 97 48 53 78',\n",
    "    '47 34 42 28 11 11 30 14 10 4 20 92 19 59',\n",
    "    '69 82 64 40 27 82 27 43 56 17 18 20 98 43',\n",
    "    '84 26 87 61 95 23 88 89 49 84 12 51 3 44',\n",
    "    '43 54 18 72 70 28 20 22 59 36 85 13 73 29',\n",
    "    '7 97 4 22 74 45 62 95 66 14 40 23 79 34',\n",
    "]\n",
    "for x in a:\n",
    "    nums = list(map(int, x.split()))\n",
    "    print(sum(nums))"
   ]
  },
  {
   "cell_type": "code",
   "execution_count": 3,
   "metadata": {},
   "outputs": [],
   "source": [
    "import matplotlib.pyplot as plt\n",
    "import matplotlib\n",
    "import numpy as np\n",
    "matplotlib.use(\"pgf\")\n",
    "matplotlib.rcParams.update({\n",
    "    \"pgf.texsystem\": \"pdflatex\",\n",
    "    'font.family': 'serif',\n",
    "    'text.usetex': True,\n",
    "    'pgf.rcfonts': False,\n",
    "})\n",
    "# JOBS: Counter({30: 25, 20: 21, 50: 20, 15: 10, 100: 10})\n",
    "vals = np.array([15, 20, 30, 50, 100])\n",
    "weights = np.array([10, 21, 25, 20, 10])\n",
    "\n",
    "plt.figure(figsize=(4.2, 2.7))\n",
    "plt.tight_layout()\n",
    "plt.bar(vals.astype(str), weights)\n",
    "plt.xlabel('Number of jobs')\n",
    "plt.ylabel('Count in original data')\n",
    "plt.savefig('jobs.pgf', bbox_inches='tight')"
   ]
  },
  {
   "cell_type": "code",
   "execution_count": null,
   "metadata": {},
   "outputs": [],
   "source": [
    "    "
   ]
  }
 ],
 "metadata": {
  "hide_input": false,
  "kernelspec": {
   "display_name": "Python 3",
   "language": "python",
   "name": "python3"
  },
  "language_info": {
   "codemirror_mode": {
    "name": "ipython",
    "version": 3
   },
   "file_extension": ".py",
   "mimetype": "text/x-python",
   "name": "python",
   "nbconvert_exporter": "python",
   "pygments_lexer": "ipython3",
   "version": "3.7.10"
  }
 },
 "nbformat": 4,
 "nbformat_minor": 4
}
