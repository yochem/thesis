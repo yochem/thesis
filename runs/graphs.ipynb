{
 "cells": [
  {
   "cell_type": "code",
   "execution_count": 27,
   "id": "e13f9008-ea45-4b4a-9469-b409862dcbcc",
   "metadata": {},
   "outputs": [],
   "source": [
    "import numpy as np\n",
    "import matplotlib\n",
    "import matplotlib.pyplot as plt\n",
    "import pandas as pd"
   ]
  },
  {
   "cell_type": "code",
   "execution_count": 28,
   "id": "4635ec42-f5f4-4ed5-ad34-2975ce6b7877",
   "metadata": {},
   "outputs": [],
   "source": [
    "old = pd.read_csv('mrl-1/progress.csv')\n",
    "new = pd.read_csv('mrl-2/progress.csv')"
   ]
  },
  {
   "cell_type": "code",
   "execution_count": 31,
   "id": "58a62b51-7157-47a0-b5fc-64f4eb5fe1ff",
   "metadata": {},
   "outputs": [],
   "source": [
    "matplotlib.use(\"pgf\")\n",
    "matplotlib.rcParams.update({\n",
    "    \"pgf.texsystem\": \"pdflatex\",\n",
    "    'font.family': 'serif',\n",
    "    'text.usetex': True,\n",
    "    'pgf.rcfonts': False,\n",
    "})"
   ]
  },
  {
   "cell_type": "markdown",
   "id": "6518297b-3d2f-43d5-911e-de97130646b0",
   "metadata": {},
   "source": [
    "## Reward"
   ]
  },
  {
   "cell_type": "code",
   "execution_count": 34,
   "id": "acd84b1e-36cf-480d-82c9-9ed9cd6531ce",
   "metadata": {},
   "outputs": [],
   "source": [
    "def fit_line(x, y, n, linspace=None):\n",
    "    if linspace:\n",
    "        return np.poly1d(np.polyfit(x, y, n))(linspace)\n",
    "    return np.poly1d(np.polyfit(x, y, n))(x)\n",
    "\n",
    "old_x = old['Itr']\n",
    "old_y = old['Average reward']\n",
    "old_fit = fit_line(old_x, old_y, 3)\n",
    "new_x = new['Itr']\n",
    "new_y = new['Average reward']\n",
    "new_fit = fit_line(new_x, new_y, 3)\n",
    "\n",
    "# plt.scatter(old_x, old_y, s=0.5, alpha=0.4, label='Their data')\n",
    "# plt.scatter(new_x, new_y, s=0.5, alpha=0.4, label='Our data')\n",
    "# plt.plot(old_fit, label='Poly fit their data')\n",
    "# plt.plot(new_fit, label='Poly fit our data')\n",
    "# plt.legend()\n",
    "# plt.xlabel('Iteration')\n",
    "# plt.ylabel('Average Reward')\n",
    "# plt.title('Progress of average reward during training')\n",
    "# plt.show()\n",
    "\n",
    "plt.figure(figsize=(5,4))\n",
    "plt.tight_layout()\n",
    "plt.plot(old['Itr'], old['Average reward'], linewidth=1, alpha=0.4, c='tab:blue')\n",
    "plt.plot(new['Itr'], new['Average reward'], linewidth=1, alpha=0.4, c='orange')\n",
    "plt.plot(old_fit, label='MRLCO data', c='tab:blue')\n",
    "plt.plot(new_fit, label='Provided data', c='orange')\n",
    "plt.legend()\n",
    "plt.xlabel('Iteration')\n",
    "plt.ylabel('Average Reward')\n",
    "plt.title('Progress of average reward during training')\n",
    "plt.savefig('reward.pgf')"
   ]
  },
  {
   "cell_type": "markdown",
   "id": "65601d41-052a-40ff-9958-0523925b8b33",
   "metadata": {},
   "source": [
    "## Return"
   ]
  },
  {
   "cell_type": "code",
   "execution_count": 18,
   "id": "7f8fc7e0-1e7c-4b55-a927-4855407fd48a",
   "metadata": {},
   "outputs": [],
   "source": [
    "old_avg = old['AverageReturn']\n",
    "old_min = old['MinReturn']\n",
    "old_max = old['MaxReturn']\n",
    "\n",
    "new_avg = new['AverageReturn']\n",
    "new_min = new['MinReturn']\n",
    "new_max = new['MaxReturn']\n",
    "\n",
    "\n",
    "fig, (ax1, ax2) = plt.subplots(nrows=1, ncols=2, figsize=(6, 2.5), constrained_layout=True, sharex=True, sharey=True)\n",
    "ax1.set_title('MRLCO data')\n",
    "ax1.plot(old_x, old_avg, c='tab:blue')\n",
    "ax1.plot(old_x, old_min, c='tab:blue')\n",
    "ax1.plot(old_x, old_max, c='tab:blue')\n",
    "ax1.fill_between(old_x, old_min, old_max, alpha=0.5, color='tab:blue')\n",
    "\n",
    "ax2.set_title('Provided data')\n",
    "ax2.plot(new_x, new_avg, c='orange')\n",
    "ax2.plot(new_x, new_min, c='orange')\n",
    "ax2.plot(new_x, new_max, c='orange')\n",
    "ax2.fill_between(new_x, new_min, new_max, alpha=0.4, color='orange')\n",
    "\n",
    "plt.setp([ax1, ax2], xlabel='Iteration')\n",
    "plt.setp(ax1, ylabel='Return Value')\n",
    "fig.suptitle('Progress of maximal, average, and minimal return value during training')\n",
    "plt.savefig('return.pgf')"
   ]
  },
  {
   "cell_type": "markdown",
   "id": "177c5a9b-1fe2-460c-93c2-67d53d58c75b",
   "metadata": {},
   "source": [
    "## Execution Time"
   ]
  },
  {
   "cell_type": "code",
   "execution_count": 185,
   "id": "faec2d41-cab9-42bb-b828-8b05615d6398",
   "metadata": {},
   "outputs": [
    {
     "data": {
      "text/html": [
       "<div>\n",
       "<style scoped>\n",
       "    .dataframe tbody tr th:only-of-type {\n",
       "        vertical-align: middle;\n",
       "    }\n",
       "\n",
       "    .dataframe tbody tr th {\n",
       "        vertical-align: top;\n",
       "    }\n",
       "\n",
       "    .dataframe thead th {\n",
       "        text-align: right;\n",
       "    }\n",
       "</style>\n",
       "<table border=\"1\" class=\"dataframe\">\n",
       "  <thead>\n",
       "    <tr style=\"text-align: right;\">\n",
       "      <th></th>\n",
       "      <th>PolicyExecTime</th>\n",
       "      <th>EnvExecTime</th>\n",
       "    </tr>\n",
       "  </thead>\n",
       "  <tbody>\n",
       "    <tr>\n",
       "      <th>Their Data</th>\n",
       "      <td>2.477595</td>\n",
       "      <td>0.953273</td>\n",
       "    </tr>\n",
       "    <tr>\n",
       "      <th>Our Data</th>\n",
       "      <td>2.485432</td>\n",
       "      <td>0.953415</td>\n",
       "    </tr>\n",
       "    <tr>\n",
       "      <th>Difference</th>\n",
       "      <td>0.007836</td>\n",
       "      <td>0.000142</td>\n",
       "    </tr>\n",
       "  </tbody>\n",
       "</table>\n",
       "</div>"
      ],
      "text/plain": [
       "            PolicyExecTime  EnvExecTime\n",
       "Their Data        2.477595     0.953273\n",
       "Our Data          2.485432     0.953415\n",
       "Difference        0.007836     0.000142"
      ]
     },
     "execution_count": 185,
     "metadata": {},
     "output_type": "execute_result"
    }
   ],
   "source": [
    "old_exec_time = old[['PolicyExecTime', 'EnvExecTime']].mean()\n",
    "old_exec_time.name = 'Their Data'\n",
    "new_exec_time = new[['PolicyExecTime', 'EnvExecTime']].mean()\n",
    "new_exec_time.name = 'Our Data'\n",
    "\n",
    "mean_exec_times = old_exec_time.to_frame().join(new_exec_time).transpose()\n",
    "diff = mean_exec_times.iloc[1] - mean_exec_times.iloc[0]\n",
    "diff.name = 'Difference'\n",
    "mean_exec_times.append(diff)"
   ]
  },
  {
   "cell_type": "code",
   "execution_count": null,
   "id": "d688c7b6-7998-45fe-942a-62ab473bb4d1",
   "metadata": {},
   "outputs": [],
   "source": []
  }
 ],
 "metadata": {
  "kernelspec": {
   "display_name": "Python 3",
   "language": "python",
   "name": "python3"
  },
  "language_info": {
   "codemirror_mode": {
    "name": "ipython",
    "version": 3
   },
   "file_extension": ".py",
   "mimetype": "text/x-python",
   "name": "python",
   "nbconvert_exporter": "python",
   "pygments_lexer": "ipython3",
   "version": "3.9.5"
  }
 },
 "nbformat": 4,
 "nbformat_minor": 5
}
